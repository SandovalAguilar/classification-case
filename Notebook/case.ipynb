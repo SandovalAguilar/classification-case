{
 "cells": [
  {
   "cell_type": "markdown",
   "metadata": {},
   "source": [
    "# Evaluation Exam"
   ]
  },
  {
   "cell_type": "markdown",
   "metadata": {},
   "source": [
    "- Define the following terms:\n",
    "\n",
    "    - Supervised learning:\n",
    "    - Unsupervised learning:\n",
    "    - Classification:\n",
    "    - Regression:\n",
    "    - Clustering:\n",
    "    - Dimensionality reduction:\n",
    "\n",
    "- Explain the bias-variance tradeoff in machine learning.\n",
    "\n",
    "- Describe the steps involved in the CRISP-DM (Cross-Industry Standard Process for Data Mining) methodology.\n",
    "\n"
   ]
  }
 ],
 "metadata": {
  "language_info": {
   "name": "python"
  }
 },
 "nbformat": 4,
 "nbformat_minor": 2
}
