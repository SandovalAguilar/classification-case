{
 "cells": [
  {
   "cell_type": "markdown",
   "metadata": {},
   "source": [
    "# Evaluation Exam"
   ]
  },
  {
   "cell_type": "markdown",
   "metadata": {},
   "source": [
    "### Theory Section\n",
    "\n",
    "- Define the following terms:\n",
    "\n",
    "    - Supervised learning: \n",
    "    \n",
    "        This is a subset of machine learning where the training datasets are pre-labeled. These labels guide the algorithms in classifying data or predicting outcomes accurately. This method is particularly useful when the desired output is known, and the algorithm needs to learn the mapping from input to output.\n",
    "    \n",
    "    - Unsupervised learning:  \n",
    "\n",
    "        Contrary to supervised learning, this approach involves working with datasets that are not pre-labeled. In this scenario, the algorithms autonomously identify hidden patterns or clusters within the data, without any human intervention. \n",
    "        \n",
    "    - Classification:\n",
    "\n",
    "        Classification is a task that involves predicting the label or class of a given unlabeled data point. Formally speaking, a classifier is a function $M$ that predicts the class label $\\hat{y}$ for a given input example $x$ in $\\hat{y} = M(x)$, where $\\hat{y} = \\{c_1, c_1,...,c_k\\}$ (each $c_i$ is a categorical attribute value). \n",
    "        \n",
    "        As a form of supervised learning, this approach requires a training process where the model is exposed to training set, which includes data points already assigned with correct class labels. Through this training, the model learns to identify and categorize these points. Once the training is complete, the model is capable of automatically predicting the class for any new, unlabeled data point\n",
    "\n",
    "    - Regression:\n",
    "\n",
    "        Given a set of variables $X_1, X_2, ..., X_d$, called the predictor or independent variables, and given a variable $Y$ where $Y \\in \\mathbb{R}$, called the response or dependent variable, the goal of the regression is to predict the response variable based on the independent variables. In general:\n",
    "\n",
    "        $Y = f(X_1, X_2, ..., X_d) + \\epsilon = f(\\textbf{X}) + \\epsilon$\n",
    "\n",
    "        Where $\\textbf{X}$ is the multivariate random variable, and $\\epsilon$ is a random error. Also, depending on the type of regression model (linear, logistic, etc.), the data used in these models need to adhere to certain statistical assumptions.\n",
    "\n",
    "    - Clustering:\n",
    "\n",
    "        Formally speaking, given a dataset $\\textbf{D}$ with $n$ points $\\textbf{x}_i$, and given the number of $k$ clusters, the goal of clustering is to partition the dataset into $k$ groups without using any kind of pre-labeled points, which differentiates it from classification tasks. The clusters are denoted by $C = \\{C_1, C_2,..., C_k\\}$ and, for each $C_i$, there exists a representative point defined as the mean or centroid $\\mu_i$:\n",
    "\n",
    "        $\\mu_i = \\frac{1}{n_i} \\sum_{x_j \\in C_i} \\textbf{x}_j$\n",
    "\n",
    "    - - Dimensionality reduction:"
   ]
  },
  {
   "cell_type": "markdown",
   "metadata": {},
   "source": [
    "- Explain the bias-variance tradeoff in machine learning.\n",
    "\n",
    "...\n",
    "\n",
    "- Describe the steps involved in the CRISP-DM (Cross-Industry Standard Process for Data Mining) methodology.\n",
    "\n",
    "...\n",
    "\n",
    "### Practical Section\n",
    "\n",
    "- Business Case: You are working for a retail company, and they want to identify customer segments for targeted marketing campaigns. They have provided you with a dataset containing customer information such as age, gender, income, and purchase history. Your task is to perform customer segmentation using supervised learning techniques.\n",
    "\n",
    "Steps to follow:\n",
    "\n",
    "1. Which suitable supervised learning algorithm to cluster the customers would you choose? Give at least three options.\n",
    "2. Choose the best and run it.\n",
    "3. Analyze and interpret the results of the clustering.\n",
    "4. Provide recommendations on how the company can utilize the customer segments for targeted marketing campaigns.\n",
    "\n",
    "\n"
   ]
  },
  {
   "cell_type": "markdown",
   "metadata": {},
   "source": []
  }
 ],
 "metadata": {
  "kernelspec": {
   "display_name": "Python 3",
   "language": "python",
   "name": "python3"
  },
  "language_info": {
   "name": "python",
   "version": "3.11.6"
  }
 },
 "nbformat": 4,
 "nbformat_minor": 2
}
