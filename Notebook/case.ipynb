{
 "cells": [
  {
   "cell_type": "markdown",
   "metadata": {},
   "source": [
    "# Evaluation Exam"
   ]
  },
  {
   "cell_type": "markdown",
   "metadata": {},
   "source": [
    "### Theory Section\n",
    "\n",
    "- Define the following terms:\n",
    "\n",
    "    - Supervised learning: \n",
    "    \n",
    "        This is a subset of machine learning where the training datasets are pre-labeled. These labels guide the algorithms in classifying data or predicting outcomes accurately. This method is particularly useful when the desired output is known, and the algorithm needs to learn the mapping from input to output.\n",
    "    \n",
    "    - Unsupervised learning:  \n",
    "\n",
    "        Contrary to supervised learning, this approach involves working with datasets that are not pre-labeled. In this scenario, the algorithms autonomously identify hidden patterns or clusters within the data, without any human intervention. \n",
    "        \n",
    "    - Classification:\n",
    "\n",
    "        Classification is a task that involves predicting the label or class of a given unlabeled data point. Formally speaking, a classifier is a function $M$ that predicts the class label $\\hat{y}$ for a given input example $x$ in $\\hat{y} = M(x)$, where $\\hat{y} = \\{c_1, c_1,...,c_k\\}$ (each $c_i$ is a categorical attribute value). \n",
    "        \n",
    "        As a form of supervised learning, this approach requires a training process where the model is exposed to training set, which includes data points already assigned with correct class labels. Through this training, the model learns to identify and categorize these points. Once the training is complete, the model is capable of automatically predicting the class for any new, unlabeled data point\n",
    "\n",
    "    - Regression:\n",
    "\n",
    "        Given a set of variables $X_1, X_2, ..., X_d$, called the predictor or independent variables, and given a variable $Y$ where $Y \\in \\mathbb{R}$, called the response or dependent variable, the goal of the regression is to predict the response variable based on the independent variables. In general:\n",
    "\n",
    "        $Y = f(X_1, X_2, ..., X_d) + \\epsilon = f(\\textbf{X}) + \\epsilon$\n",
    "\n",
    "        Where $\\textbf{X}$ is the multivariate random variable, and $\\epsilon$ is a random error. Also, depending on the type of regression model (linear, logistic, etc.), the data used in these models need to adhere to certain statistical assumptions.\n",
    "\n",
    "    - Clustering:\n",
    "\n",
    "        Formally speaking, given a dataset $\\textbf{D}$ with $n$ points $\\textbf{x}_i$, and given the number of $k$ clusters, the goal of clustering is to partition the dataset into $k$ groups without using any kind of pre-labeled points, which differentiates it from classification tasks. The clusters are denoted by $C = \\{C_1, C_2,..., C_k\\}$ and, for each $C_i$, there exists a representative point defined as the mean or centroid $\\mu_i$:\n",
    "\n",
    "        $\\mu_i = \\frac{1}{n_i} \\sum_{x_j \\in C_i} \\textbf{x}_j$\n",
    "\n",
    "    - Dimensionality reduction: \n",
    "    \n",
    "        Dimensionality reduction involves transforming data from a high-dimensional space into a lower-dimensional space, aiming to retain the most meaningful properties of the original dataset. Formally speaking, the goal of dimensionality reduction is to find an $r$-dimensional basis that aproximates $\\textbf{x}'_i$ over all the points of $\\textbf{x}_i \\in \\textbf{D}$ while minimizing the error $\\epsilon_i = \\textbf{x}_i - \\textbf{x}_i'$.\n",
    "\n",
    "- Explain the bias-variance tradeoff in machine learning.\n",
    "\n",
    "    This concept describes the relationship between a model's complexity and the accuracy of its predictions. Generally, increasing the number of parameters in a model can lead to a better fit on the training set, thereby reducing bias. However, the trade-off is that such models often exhibit higher variance. In other words, when exposed to different sets of samples, these more complex models are likely to produce varying results.\n",
    "\n",
    "- Describe the steps involved in the CRISP-DM (Cross-Industry Standard Process for Data Mining) methodology.\n",
    "\n",
    "    - Business Understanding: Define the project objectives and requirements from a business perspective.\n",
    "    - Data Understanding: Collect and familiarize with the data, identifying quality issues and initial insights.\n",
    "    - Data Preparation: Clean and preprocess the data to create a final dataset for modeling.\n",
    "    - Modeling: Select and apply various modeling techniques, tuning them to optimal parameters.\n",
    "    - Evaluation: Assess the model against the business objectives, ensuring it meets the required goals.\n",
    "    - Deployment: Implement the data mining solution, plan for its maintenance, and monitor its performance."
   ]
  },
  {
   "cell_type": "markdown",
   "metadata": {},
   "source": [
    "### Practical Section\n",
    "\n",
    "- Business Case: You are working for a retail company, and they want to identify customer segments for targeted marketing campaigns. They have provided you with a dataset containing customer information such as age, gender, income, and purchase history. Your task is to perform customer segmentation using supervised learning techniques.\n",
    "\n",
    "Steps to follow:\n",
    "\n",
    "1. Which suitable supervised learning algorithm to cluster the customers would you choose? Give at least three options.\n",
    "2. Choose the best and run it.\n",
    "3. Analyze and interpret the results of the clustering.\n",
    "4. Provide recommendations on how the company can utilize the customer segments for targeted marketing campaigns.\n",
    "\n",
    "\n"
   ]
  },
  {
   "cell_type": "markdown",
   "metadata": {},
   "source": [
    "### Exploratory Data Analysis\n",
    "\n",
    "1. To propose three suitable supervised learning algorithms, we should first conduct an exploratory data analysis to uncover meaningful insights that could inform our choice of the most appropriate model."
   ]
  },
  {
   "cell_type": "code",
   "execution_count": 87,
   "metadata": {},
   "outputs": [],
   "source": [
    "# Library for data manipulation\n",
    "import pandas as pd\n",
    "from sklearn.preprocessing import LabelEncoder\n",
    "import numpy as np\n",
    "# Data visualization\n",
    "import seaborn as sns\n",
    "import matplotlib.pyplot as plt"
   ]
  },
  {
   "cell_type": "code",
   "execution_count": 79,
   "metadata": {},
   "outputs": [],
   "source": [
    "# Load the data\n",
    "df = pd.read_csv(\"data.csv\", index_col=\"customer_id\")"
   ]
  },
  {
   "cell_type": "code",
   "execution_count": 80,
   "metadata": {},
   "outputs": [
    {
     "data": {
      "text/html": [
       "<div>\n",
       "<style scoped>\n",
       "    .dataframe tbody tr th:only-of-type {\n",
       "        vertical-align: middle;\n",
       "    }\n",
       "\n",
       "    .dataframe tbody tr th {\n",
       "        vertical-align: top;\n",
       "    }\n",
       "\n",
       "    .dataframe thead th {\n",
       "        text-align: right;\n",
       "    }\n",
       "</style>\n",
       "<table border=\"1\" class=\"dataframe\">\n",
       "  <thead>\n",
       "    <tr style=\"text-align: right;\">\n",
       "      <th></th>\n",
       "      <th>age</th>\n",
       "      <th>gender</th>\n",
       "      <th>income</th>\n",
       "      <th>purchase_history</th>\n",
       "    </tr>\n",
       "    <tr>\n",
       "      <th>customer_id</th>\n",
       "      <th></th>\n",
       "      <th></th>\n",
       "      <th></th>\n",
       "      <th></th>\n",
       "    </tr>\n",
       "  </thead>\n",
       "  <tbody>\n",
       "    <tr>\n",
       "      <th>1</th>\n",
       "      <td>35</td>\n",
       "      <td>male</td>\n",
       "      <td>50000</td>\n",
       "      <td>low</td>\n",
       "    </tr>\n",
       "    <tr>\n",
       "      <th>2</th>\n",
       "      <td>28</td>\n",
       "      <td>female</td>\n",
       "      <td>40000</td>\n",
       "      <td>high</td>\n",
       "    </tr>\n",
       "    <tr>\n",
       "      <th>3</th>\n",
       "      <td>42</td>\n",
       "      <td>male</td>\n",
       "      <td>60000</td>\n",
       "      <td>medium</td>\n",
       "    </tr>\n",
       "    <tr>\n",
       "      <th>4</th>\n",
       "      <td>31</td>\n",
       "      <td>female</td>\n",
       "      <td>55000</td>\n",
       "      <td>low</td>\n",
       "    </tr>\n",
       "    <tr>\n",
       "      <th>5</th>\n",
       "      <td>37</td>\n",
       "      <td>female</td>\n",
       "      <td>65000</td>\n",
       "      <td>medium</td>\n",
       "    </tr>\n",
       "  </tbody>\n",
       "</table>\n",
       "</div>"
      ],
      "text/plain": [
       "             age  gender  income purchase_history\n",
       "customer_id                                      \n",
       "1             35    male   50000              low\n",
       "2             28  female   40000             high\n",
       "3             42    male   60000           medium\n",
       "4             31  female   55000              low\n",
       "5             37  female   65000           medium"
      ]
     },
     "execution_count": 80,
     "metadata": {},
     "output_type": "execute_result"
    }
   ],
   "source": [
    "df.head()"
   ]
  },
  {
   "cell_type": "markdown",
   "metadata": {},
   "source": [
    "Given that the data has been already cleaned, we are now ready to proceed with the analysis."
   ]
  },
  {
   "cell_type": "code",
   "execution_count": 8,
   "metadata": {},
   "outputs": [
    {
     "name": "stdout",
     "output_type": "stream",
     "text": [
      "<class 'pandas.core.frame.DataFrame'>\n",
      "Index: 100 entries, 1 to 100\n",
      "Data columns (total 4 columns):\n",
      " #   Column            Non-Null Count  Dtype \n",
      "---  ------            --------------  ----- \n",
      " 0   age               100 non-null    int64 \n",
      " 1   gender            100 non-null    object\n",
      " 2   income            100 non-null    int64 \n",
      " 3   purchase_history  100 non-null    object\n",
      "dtypes: int64(2), object(2)\n",
      "memory usage: 3.9+ KB\n"
     ]
    }
   ],
   "source": [
    "df.info()"
   ]
  },
  {
   "cell_type": "markdown",
   "metadata": {},
   "source": [
    "According to the description, there is no target variable since this is a clustering task, suggesting that all columns are features. However, the dataset contains mixed types of data: categorical (`gender and` and `purchase_history`) and numerical (`age` and `income`), with the latter being continuous variables."
   ]
  },
  {
   "cell_type": "code",
   "execution_count": 9,
   "metadata": {},
   "outputs": [
    {
     "data": {
      "text/plain": [
       "(100, 4)"
      ]
     },
     "execution_count": 9,
     "metadata": {},
     "output_type": "execute_result"
    }
   ],
   "source": [
    "df.shape"
   ]
  },
  {
   "cell_type": "markdown",
   "metadata": {},
   "source": [
    "The dataset contains at least 100 samples but fewer than 10,000, indicating the need for an algorithm that is effective with smaller datasets"
   ]
  },
  {
   "cell_type": "code",
   "execution_count": 72,
   "metadata": {},
   "outputs": [],
   "source": [
    "# Select categorical and numerical columns\n",
    "numerical_columns = df.select_dtypes(include=['int64']).columns\n"
   ]
  },
  {
   "cell_type": "code",
   "execution_count": 83,
   "metadata": {},
   "outputs": [
    {
     "data": {
      "text/plain": [
       "array([[<Axes: title={'center': 'age'}>,\n",
       "        <Axes: title={'center': 'income'}>]], dtype=object)"
      ]
     },
     "execution_count": 83,
     "metadata": {},
     "output_type": "execute_result"
    },
    {
     "data": {
      "image/png": "[encoded data removed]",
      "text/plain": [
       "<Figure size 640x480 with 2 Axes>"
      ]
     },
     "metadata": {},
     "output_type": "display_data"
    }
   ],
   "source": [
    "# Create histogram for each categorical column in DataFrame\n",
    "numerical_columns = df.select_dtypes(include=['int64']).columns\n",
    "df[numerical_columns].hist()"
   ]
  },
  {
   "cell_type": "code",
   "execution_count": 84,
   "metadata": {},
   "outputs": [
    {
     "data": {
      "image/png": "[encoded data removed]",
      "text/plain": [
       "<Figure size 640x480 with 2 Axes>"
      ]
     },
     "metadata": {},
     "output_type": "display_data"
    }
   ],
   "source": [
    "# Plot for 'gender' value counts\n",
    "plt.subplot(1, 2, 1)  # 1 row, 2 columns, 1st subplot\n",
    "df['gender'].value_counts().plot(kind='bar', color='skyblue')\n",
    "plt.title('Gender Distribution')\n",
    "plt.xlabel('Gender')\n",
    "plt.ylabel('Count')\n",
    "\n",
    "# Plot for 'purchase_history' value counts\n",
    "plt.subplot(1, 2, 2)  # 1 row, 2 columns, 2nd subplot\n",
    "df['purchase_history'].value_counts().plot(kind='bar', color='lightgreen')\n",
    "plt.title('Purchase History Distribution')\n",
    "plt.xlabel('Purchase History')\n",
    "plt.ylabel('Count')\n",
    "\n",
    "plt.tight_layout()\n",
    "plt.show()"
   ]
  },
  {
   "cell_type": "code",
   "execution_count": 85,
   "metadata": {},
   "outputs": [
    {
     "data": {
      "image/png": "[encoded data removed]",
      "text/plain": [
       "<Figure size 500x400 with 2 Axes>"
      ]
     },
     "metadata": {},
     "output_type": "display_data"
    }
   ],
   "source": [
    "# Encoding categorical data\n",
    "df['gender_encoded'] = LabelEncoder().fit_transform(df['gender'])\n",
    "df['purchase_history_encoded'] = LabelEncoder().fit_transform(df['purchase_history'])\n",
    "\n",
    "# Selecting numerical columns for the correlation matrix\n",
    "numerical_data = df[['age', 'income', 'gender_encoded', 'purchase_history_encoded']]\n",
    "\n",
    "# Calculating the correlation matrix\n",
    "correlation_matrix = numerical_data.corr()\n",
    "\n",
    "# Plotting the correlation matrix\n",
    "plt.figure(figsize=(5, 4))\n",
    "sns.heatmap(correlation_matrix, annot=True, cmap='coolwarm', fmt=\".2f\")\n",
    "plt.title('Correlation Matrix')\n",
    "plt.show()"
   ]
  },
  {
   "cell_type": "markdown",
   "metadata": {},
   "source": [
    "Key Observations:\n",
    "\n",
    "- The chosen algorithm must be capable of effectively handling datasets with a small number of samples (fewer or equal to 100).\n",
    "- The dataset comprises a mix of categorical and numerical data types.\n",
    "- The gender distribution within the dataset is notably balanced, with nearly equal numbers of female and male participants.\n",
    "- We don't previously know the number of categories.\n",
    "- There is no significant correlation among the variables, which likely indicates the absence of collinearity as well.\n",
    "\n",
    "Some algorithms that could be used are:\n",
    "\n",
    "- KMeans\n",
    "- KModes\n",
    "- K-Prototype\n",
    "- MeanShift\n",
    "- VBGMM\n",
    "- MiniBatch KMeans\n",
    "\n",
    "However, in this case, the most suitable algorithm for our problem is the K-Prototype algorithm. This method is an improvement of both the K-Means and K-Modes clustering algorithms, designed to handle mixed data types. The only downside is that we need to pre-determine the optimal number of categories to assign, but we can use the Elbow Method to handle this."
   ]
  },
  {
   "cell_type": "markdown",
   "metadata": {},
   "source": [
    "### K-Prototype"
   ]
  },
  {
   "cell_type": "code",
   "execution_count": 86,
   "metadata": {},
   "outputs": [],
   "source": [
    "from kmodes.kprototypes import KPrototypes"
   ]
  },
  {
   "cell_type": "code",
   "execution_count": 91,
   "metadata": {},
   "outputs": [
    {
     "data": {
      "text/plain": [
       "IntervalIndex([(25.977999999999998, 33.0], (33.0, 40.0], (40.0, 47.0]], dtype='interval[float64, right]', name='age')"
      ]
     },
     "execution_count": 91,
     "metadata": {},
     "output_type": "execute_result"
    }
   ],
   "source": [
    "# Generate intervals for the age\n",
    "column_name = df.columns[0]\n",
    "classes = df[column_name].value_counts(bins = 3, sort = False)\n",
    "classes.index"
   ]
  },
  {
   "cell_type": "code",
   "execution_count": 142,
   "metadata": {},
   "outputs": [
    {
     "data": {
      "text/html": [
       "<div>\n",
       "<style scoped>\n",
       "    .dataframe tbody tr th:only-of-type {\n",
       "        vertical-align: middle;\n",
       "    }\n",
       "\n",
       "    .dataframe tbody tr th {\n",
       "        vertical-align: top;\n",
       "    }\n",
       "\n",
       "    .dataframe thead th {\n",
       "        text-align: right;\n",
       "    }\n",
       "</style>\n",
       "<table border=\"1\" class=\"dataframe\">\n",
       "  <thead>\n",
       "    <tr style=\"text-align: right;\">\n",
       "      <th></th>\n",
       "      <th>age</th>\n",
       "      <th>age_bins</th>\n",
       "    </tr>\n",
       "  </thead>\n",
       "  <tbody>\n",
       "    <tr>\n",
       "      <th>0</th>\n",
       "      <td>35</td>\n",
       "      <td>34-40</td>\n",
       "    </tr>\n",
       "    <tr>\n",
       "      <th>1</th>\n",
       "      <td>28</td>\n",
       "      <td>26-33</td>\n",
       "    </tr>\n",
       "    <tr>\n",
       "      <th>2</th>\n",
       "      <td>42</td>\n",
       "      <td>40+</td>\n",
       "    </tr>\n",
       "  </tbody>\n",
       "</table>\n",
       "</div>"
      ],
      "text/plain": [
       "   age age_bins\n",
       "0   35    34-40\n",
       "1   28    26-33\n",
       "2   42      40+"
      ]
     },
     "execution_count": 142,
     "metadata": {},
     "output_type": "execute_result"
    }
   ],
   "source": [
    "# Convert age to bins\n",
    "df['age_bins'] = pd.cut(df['age'], bins=(25,33,40,47), labels=[\"26-33\",\"34-40\",\"40+\"])\n",
    "df[['age','age_bins']].drop_duplicates(subset=['age_bins']).reset_index(drop=True)"
   ]
  },
  {
   "cell_type": "code",
   "execution_count": 144,
   "metadata": {},
   "outputs": [],
   "source": [
    "features = df[['income', 'gender', 'age_bins', 'purchase_history']].reset_index(drop=True)"
   ]
  },
  {
   "cell_type": "code",
   "execution_count": 130,
   "metadata": {},
   "outputs": [
    {
     "name": "stdout",
     "output_type": "stream",
     "text": [
      "Categorical columns           : ['gender', 'purchase_history', 'age_bins']\n",
      "Categorical columns position  : [1, 2, 3]\n"
     ]
    }
   ],
   "source": [
    "# Get the position of categorical columns\n",
    "categorical_colums_index = [features.columns.get_loc(col) for col in list(features.select_dtypes(include=['object', 'category']).columns)]\n",
    "\n",
    "print('Categorical columns           : {}'.format(list(df.select_dtypes(include=['object', 'category']).columns)))\n",
    "print('Categorical columns position  : {}'.format(categorical_colums_index))"
   ]
  },
  {
   "cell_type": "code",
   "execution_count": 189,
   "metadata": {},
   "outputs": [
    {
     "data": {
      "text/plain": [
       "Text(0, 0.5, 'c')"
      ]
     },
     "execution_count": 189,
     "metadata": {},
     "output_type": "execute_result"
    },
    {
     "data": {
      "image/png": "[encoded data removed]",
      "text/plain": [
       "<Figure size 640x480 with 1 Axes>"
      ]
     },
     "metadata": {},
     "output_type": "display_data"
    }
   ],
   "source": [
    "# Elbow method\n",
    "cost = []\n",
    "for cluster in range(1, 10):\n",
    "    try:\n",
    "        kprototype = KPrototypes(n_jobs = -1, n_clusters = cluster, init = 'Huang', random_state = 0)\n",
    "        kprototype.fit_predict(features, categorical = categorical_colums_index)\n",
    "        cost.append(kprototype.cost_)\n",
    "    except:\n",
    "        break\n",
    "\n",
    "plt.plot(cost)\n",
    "plt.xlabel('K')\n",
    "plt.ylabel('c')"
   ]
  },
  {
   "cell_type": "code",
   "execution_count": 137,
   "metadata": {},
   "outputs": [],
   "source": [
    "from kneed import KneeLocator"
   ]
  },
  {
   "cell_type": "code",
   "execution_count": 139,
   "metadata": {},
   "outputs": [
    {
     "name": "stdout",
     "output_type": "stream",
     "text": [
      "Elbow at k = 3 clusters\n"
     ]
    }
   ],
   "source": [
    "# Cost (sum distance): confirm visual clue of elbow plot\n",
    "# KneeLocator class will detect elbows if curve is convex; if concave, will detect knees\n",
    "cost_knee_c3 = KneeLocator(\n",
    "        x=range(1,10), \n",
    "        y=cost, \n",
    "        S=0.1, curve=\"convex\", direction=\"decreasing\", online=True)\n",
    "\n",
    "K_cost_c3 = cost_knee_c3.elbow   \n",
    "print(\"Elbow at k =\", f'{K_cost_c3:.0f} clusters')"
   ]
  },
  {
   "cell_type": "code",
   "execution_count": 187,
   "metadata": {},
   "outputs": [],
   "source": [
    "# Model run with k = 3\n",
    "kproto_clusters = KPrototypes(n_clusters=3,random_state=7,init=\"Cao\")\n",
    "result_cluster = kproto_clusters.fit_predict(features, categorical=categorical_colums_index)"
   ]
  },
  {
   "cell_type": "code",
   "execution_count": 190,
   "metadata": {},
   "outputs": [
    {
     "data": {
      "text/plain": [
       "Clusters\n",
       "2    46\n",
       "0    34\n",
       "1    20\n",
       "Name: count, dtype: int64"
      ]
     },
     "execution_count": 190,
     "metadata": {},
     "output_type": "execute_result"
    }
   ],
   "source": [
    "features['Clusters'] = result_cluster\n",
    "features['Clusters'].value_counts()"
   ]
  },
  {
   "cell_type": "code",
   "execution_count": 158,
   "metadata": {},
   "outputs": [
    {
     "data": {
      "text/plain": [
       "<Axes: xlabel='Clusters'>"
      ]
     },
     "execution_count": 158,
     "metadata": {},
     "output_type": "execute_result"
    },
    {
     "data": {
      "image/png": "[encoded data removed]",
      "text/plain": [
       "<Figure size 640x480 with 1 Axes>"
      ]
     },
     "metadata": {},
     "output_type": "display_data"
    }
   ],
   "source": [
    "# The volume of each cluster\n",
    "features['Clusters'].value_counts().plot(kind='bar')"
   ]
  },
  {
   "cell_type": "code",
   "execution_count": 197,
   "metadata": {},
   "outputs": [
    {
     "data": {
      "text/html": [
       "<div>\n",
       "<style scoped>\n",
       "    .dataframe tbody tr th:only-of-type {\n",
       "        vertical-align: middle;\n",
       "    }\n",
       "\n",
       "    .dataframe tbody tr th {\n",
       "        vertical-align: top;\n",
       "    }\n",
       "\n",
       "    .dataframe thead th {\n",
       "        text-align: right;\n",
       "    }\n",
       "</style>\n",
       "<table border=\"1\" class=\"dataframe\">\n",
       "  <thead>\n",
       "    <tr style=\"text-align: right;\">\n",
       "      <th></th>\n",
       "      <th>income</th>\n",
       "      <th>gender</th>\n",
       "      <th>age_bins</th>\n",
       "      <th>purchase_history</th>\n",
       "    </tr>\n",
       "    <tr>\n",
       "      <th>Clusters</th>\n",
       "      <th></th>\n",
       "      <th></th>\n",
       "      <th></th>\n",
       "      <th></th>\n",
       "    </tr>\n",
       "  </thead>\n",
       "  <tbody>\n",
       "    <tr>\n",
       "      <th>0</th>\n",
       "      <td>55000</td>\n",
       "      <td>female</td>\n",
       "      <td>34-40</td>\n",
       "      <td>medium</td>\n",
       "    </tr>\n",
       "    <tr>\n",
       "      <th>1</th>\n",
       "      <td>70000</td>\n",
       "      <td>male</td>\n",
       "      <td>26-33</td>\n",
       "      <td>high</td>\n",
       "    </tr>\n",
       "    <tr>\n",
       "      <th>2</th>\n",
       "      <td>42000</td>\n",
       "      <td>female</td>\n",
       "      <td>26-33</td>\n",
       "      <td>medium</td>\n",
       "    </tr>\n",
       "  </tbody>\n",
       "</table>\n",
       "</div>"
      ],
      "text/plain": [
       "          income  gender age_bins purchase_history\n",
       "Clusters                                          \n",
       "0          55000  female    34-40           medium\n",
       "1          70000    male    26-33             high\n",
       "2          42000  female    26-33           medium"
      ]
     },
     "execution_count": 197,
     "metadata": {},
     "output_type": "execute_result"
    }
   ],
   "source": [
    "features.groupby(['Clusters']).agg(lambda x: pd.Series.mode(x).iat[0])[['income', 'gender', 'age_bins', 'purchase_history']]\n"
   ]
  },
  {
   "cell_type": "code",
   "execution_count": 205,
   "metadata": {},
   "outputs": [
    {
     "data": {
      "text/html": [
       "<div>\n",
       "<style scoped>\n",
       "    .dataframe tbody tr th:only-of-type {\n",
       "        vertical-align: middle;\n",
       "    }\n",
       "\n",
       "    .dataframe tbody tr th {\n",
       "        vertical-align: top;\n",
       "    }\n",
       "\n",
       "    .dataframe thead tr th {\n",
       "        text-align: left;\n",
       "    }\n",
       "\n",
       "    .dataframe thead tr:last-of-type th {\n",
       "        text-align: right;\n",
       "    }\n",
       "</style>\n",
       "<table border=\"1\" class=\"dataframe\">\n",
       "  <thead>\n",
       "    <tr>\n",
       "      <th></th>\n",
       "      <th colspan=\"8\" halign=\"left\">income</th>\n",
       "    </tr>\n",
       "    <tr>\n",
       "      <th></th>\n",
       "      <th>count</th>\n",
       "      <th>mean</th>\n",
       "      <th>std</th>\n",
       "      <th>min</th>\n",
       "      <th>25%</th>\n",
       "      <th>50%</th>\n",
       "      <th>75%</th>\n",
       "      <th>max</th>\n",
       "    </tr>\n",
       "    <tr>\n",
       "      <th>Clusters</th>\n",
       "      <th></th>\n",
       "      <th></th>\n",
       "      <th></th>\n",
       "      <th></th>\n",
       "      <th></th>\n",
       "      <th></th>\n",
       "      <th></th>\n",
       "      <th></th>\n",
       "    </tr>\n",
       "  </thead>\n",
       "  <tbody>\n",
       "    <tr>\n",
       "      <th>0</th>\n",
       "      <td>34.0</td>\n",
       "      <td>56029.41</td>\n",
       "      <td>3316.49</td>\n",
       "      <td>50000.0</td>\n",
       "      <td>52750.0</td>\n",
       "      <td>55000.0</td>\n",
       "      <td>60000.0</td>\n",
       "      <td>60000.0</td>\n",
       "    </tr>\n",
       "    <tr>\n",
       "      <th>1</th>\n",
       "      <td>20.0</td>\n",
       "      <td>67800.00</td>\n",
       "      <td>2504.73</td>\n",
       "      <td>65000.0</td>\n",
       "      <td>65000.0</td>\n",
       "      <td>70000.0</td>\n",
       "      <td>70000.0</td>\n",
       "      <td>70000.0</td>\n",
       "    </tr>\n",
       "    <tr>\n",
       "      <th>2</th>\n",
       "      <td>46.0</td>\n",
       "      <td>42282.61</td>\n",
       "      <td>4674.58</td>\n",
       "      <td>35000.0</td>\n",
       "      <td>40000.0</td>\n",
       "      <td>42000.0</td>\n",
       "      <td>45000.0</td>\n",
       "      <td>48000.0</td>\n",
       "    </tr>\n",
       "  </tbody>\n",
       "</table>\n",
       "</div>"
      ],
      "text/plain": [
       "         income                                                          \n",
       "          count      mean      std      min      25%      50%      75%   \n",
       "Clusters                                                                 \n",
       "0          34.0  56029.41  3316.49  50000.0  52750.0  55000.0  60000.0  \\\n",
       "1          20.0  67800.00  2504.73  65000.0  65000.0  70000.0  70000.0   \n",
       "2          46.0  42282.61  4674.58  35000.0  40000.0  42000.0  45000.0   \n",
       "\n",
       "                   \n",
       "              max  \n",
       "Clusters           \n",
       "0         60000.0  \n",
       "1         70000.0  \n",
       "2         48000.0  "
      ]
     },
     "execution_count": 205,
     "metadata": {},
     "output_type": "execute_result"
    }
   ],
   "source": [
    "features.groupby(['Clusters']).describe().round(2)"
   ]
  }
 ],
 "metadata": {
  "kernelspec": {
   "display_name": "Python 3",
   "language": "python",
   "name": "python3"
  },
  "language_info": {
   "codemirror_mode": {
    "name": "ipython",
    "version": 3
   },
   "file_extension": ".py",
   "mimetype": "text/x-python",
   "name": "python",
   "nbconvert_exporter": "python",
   "pygments_lexer": "ipython3",
   "version": "3.10.12"
  }
 },
 "nbformat": 4,
 "nbformat_minor": 2
}
