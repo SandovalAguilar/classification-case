{
 "cells": [
  {
   "cell_type": "markdown",
   "metadata": {},
   "source": [
    "### ANOVA"
   ]
  },
  {
   "cell_type": "code",
   "execution_count": 11,
   "metadata": {
    "vscode": {
     "languageId": "r"
    }
   },
   "outputs": [],
   "source": [
    "# Libraries\n",
    "library(tidyverse)"
   ]
  },
  {
   "cell_type": "code",
   "execution_count": null,
   "metadata": {
    "vscode": {
     "languageId": "r"
    }
   },
   "outputs": [],
   "source": [
    "# Load the file\n",
    "df <- read_csv(\"data.csv\")"
   ]
  },
  {
   "cell_type": "code",
   "execution_count": 3,
   "metadata": {
    "vscode": {
     "languageId": "r"
    }
   },
   "outputs": [
    {
     "data": {
      "text/html": [
       "<table class=\"dataframe\">\n",
       "<caption>A tibble: 6 × 5</caption>\n",
       "<thead>\n",
       "\t<tr><th scope=col>customer_id</th><th scope=col>age</th><th scope=col>gender</th><th scope=col>income</th><th scope=col>purchase_history</th></tr>\n",
       "\t<tr><th scope=col>&lt;dbl&gt;</th><th scope=col>&lt;dbl&gt;</th><th scope=col>&lt;chr&gt;</th><th scope=col>&lt;dbl&gt;</th><th scope=col>&lt;chr&gt;</th></tr>\n",
       "</thead>\n",
       "<tbody>\n",
       "\t<tr><td>1</td><td>35</td><td>male  </td><td>50000</td><td>low   </td></tr>\n",
       "\t<tr><td>2</td><td>28</td><td>female</td><td>40000</td><td>high  </td></tr>\n",
       "\t<tr><td>3</td><td>42</td><td>male  </td><td>60000</td><td>medium</td></tr>\n",
       "\t<tr><td>4</td><td>31</td><td>female</td><td>55000</td><td>low   </td></tr>\n",
       "\t<tr><td>5</td><td>37</td><td>female</td><td>65000</td><td>medium</td></tr>\n",
       "\t<tr><td>6</td><td>45</td><td>male  </td><td>70000</td><td>high  </td></tr>\n",
       "</tbody>\n",
       "</table>\n"
      ],
      "text/latex": [
       "A tibble: 6 × 5\n",
       "\\begin{tabular}{lllll}\n",
       " customer\\_id & age & gender & income & purchase\\_history\\\\\n",
       " <dbl> & <dbl> & <chr> & <dbl> & <chr>\\\\\n",
       "\\hline\n",
       "\t 1 & 35 & male   & 50000 & low   \\\\\n",
       "\t 2 & 28 & female & 40000 & high  \\\\\n",
       "\t 3 & 42 & male   & 60000 & medium\\\\\n",
       "\t 4 & 31 & female & 55000 & low   \\\\\n",
       "\t 5 & 37 & female & 65000 & medium\\\\\n",
       "\t 6 & 45 & male   & 70000 & high  \\\\\n",
       "\\end{tabular}\n"
      ],
      "text/markdown": [
       "\n",
       "A tibble: 6 × 5\n",
       "\n",
       "| customer_id &lt;dbl&gt; | age &lt;dbl&gt; | gender &lt;chr&gt; | income &lt;dbl&gt; | purchase_history &lt;chr&gt; |\n",
       "|---|---|---|---|---|\n",
       "| 1 | 35 | male   | 50000 | low    |\n",
       "| 2 | 28 | female | 40000 | high   |\n",
       "| 3 | 42 | male   | 60000 | medium |\n",
       "| 4 | 31 | female | 55000 | low    |\n",
       "| 5 | 37 | female | 65000 | medium |\n",
       "| 6 | 45 | male   | 70000 | high   |\n",
       "\n"
      ],
      "text/plain": [
       "  customer_id age gender income purchase_history\n",
       "1 1           35  male   50000  low             \n",
       "2 2           28  female 40000  high            \n",
       "3 3           42  male   60000  medium          \n",
       "4 4           31  female 55000  low             \n",
       "5 5           37  female 65000  medium          \n",
       "6 6           45  male   70000  high            "
      ]
     },
     "metadata": {},
     "output_type": "display_data"
    }
   ],
   "source": [
    "head(df)"
   ]
  },
  {
   "cell_type": "code",
   "execution_count": 4,
   "metadata": {
    "vscode": {
     "languageId": "r"
    }
   },
   "outputs": [
    {
     "data": {
      "text/html": [
       "<table class=\"dataframe\">\n",
       "<caption>A tibble: 6 × 2</caption>\n",
       "<thead>\n",
       "\t<tr><th scope=col>age</th><th scope=col>age_bins</th></tr>\n",
       "\t<tr><th scope=col>&lt;dbl&gt;</th><th scope=col>&lt;fct&gt;</th></tr>\n",
       "</thead>\n",
       "<tbody>\n",
       "\t<tr><td>35</td><td>34-40</td></tr>\n",
       "\t<tr><td>28</td><td>26-33</td></tr>\n",
       "\t<tr><td>42</td><td>41-47</td></tr>\n",
       "\t<tr><td>31</td><td>26-33</td></tr>\n",
       "\t<tr><td>37</td><td>34-40</td></tr>\n",
       "\t<tr><td>45</td><td>41-47</td></tr>\n",
       "</tbody>\n",
       "</table>\n"
      ],
      "text/latex": [
       "A tibble: 6 × 2\n",
       "\\begin{tabular}{ll}\n",
       " age & age\\_bins\\\\\n",
       " <dbl> & <fct>\\\\\n",
       "\\hline\n",
       "\t 35 & 34-40\\\\\n",
       "\t 28 & 26-33\\\\\n",
       "\t 42 & 41-47\\\\\n",
       "\t 31 & 26-33\\\\\n",
       "\t 37 & 34-40\\\\\n",
       "\t 45 & 41-47\\\\\n",
       "\\end{tabular}\n"
      ],
      "text/markdown": [
       "\n",
       "A tibble: 6 × 2\n",
       "\n",
       "| age &lt;dbl&gt; | age_bins &lt;fct&gt; |\n",
       "|---|---|\n",
       "| 35 | 34-40 |\n",
       "| 28 | 26-33 |\n",
       "| 42 | 41-47 |\n",
       "| 31 | 26-33 |\n",
       "| 37 | 34-40 |\n",
       "| 45 | 41-47 |\n",
       "\n"
      ],
      "text/plain": [
       "  age age_bins\n",
       "1 35  34-40   \n",
       "2 28  26-33   \n",
       "3 42  41-47   \n",
       "4 31  26-33   \n",
       "5 37  34-40   \n",
       "6 45  41-47   "
      ]
     },
     "metadata": {},
     "output_type": "display_data"
    }
   ],
   "source": [
    "df$age_bins <- cut(df$age,\n",
    "                   breaks = c(25, 33, 40, 47),\n",
    "                   labels = c(\"26-33\", \"34-40\", \"41-47\"),\n",
    "                   include.lowest = TRUE)\n",
    "\n",
    "# To view unique age bins\n",
    "head(unique(df[, c(\"age\", \"age_bins\")]))"
   ]
  },
  {
   "cell_type": "code",
   "execution_count": 5,
   "metadata": {
    "vscode": {
     "languageId": "r"
    }
   },
   "outputs": [],
   "source": [
    "# Generate the ANOVA model\n",
    "anova <- aov(income ~ age_bins * gender * purchase_history, data = df)"
   ]
  },
  {
   "cell_type": "code",
   "execution_count": 13,
   "metadata": {
    "vscode": {
     "languageId": "r"
    }
   },
   "outputs": [
    {
     "data": {
      "text/plain": [
       "\n",
       "\tShapiro-Wilk normality test\n",
       "\n",
       "data:  residuals(anova)\n",
       "W = 0.98858, p-value = 0.5522\n"
      ]
     },
     "metadata": {},
     "output_type": "display_data"
    }
   ],
   "source": [
    "# Shapiro-Wilk normality test\n",
    "shapiro.test(residuals(anova))"
   ]
  },
  {
   "cell_type": "code",
   "execution_count": 10,
   "metadata": {
    "vscode": {
     "languageId": "r"
    }
   },
   "outputs": [],
   "source": [
    "library(car)"
   ]
  },
  {
   "cell_type": "code",
   "execution_count": 9,
   "metadata": {
    "vscode": {
     "languageId": "r"
    }
   },
   "outputs": [
    {
     "data": {
      "text/html": [
       "<table class=\"dataframe\">\n",
       "<caption>A anova: 2 × 3</caption>\n",
       "<thead>\n",
       "\t<tr><th></th><th scope=col>Df</th><th scope=col>F value</th><th scope=col>Pr(&gt;F)</th></tr>\n",
       "\t<tr><th></th><th scope=col>&lt;int&gt;</th><th scope=col>&lt;dbl&gt;</th><th scope=col>&lt;dbl&gt;</th></tr>\n",
       "</thead>\n",
       "<tbody>\n",
       "\t<tr><th scope=row>group</th><td>17</td><td>0.6159254</td><td>0.8702271</td></tr>\n",
       "\t<tr><th scope=row> </th><td>82</td><td>       NA</td><td>       NA</td></tr>\n",
       "</tbody>\n",
       "</table>\n"
      ],
      "text/latex": [
       "A anova: 2 × 3\n",
       "\\begin{tabular}{r|lll}\n",
       "  & Df & F value & Pr(>F)\\\\\n",
       "  & <int> & <dbl> & <dbl>\\\\\n",
       "\\hline\n",
       "\tgroup & 17 & 0.6159254 & 0.8702271\\\\\n",
       "\t  & 82 &        NA &        NA\\\\\n",
       "\\end{tabular}\n"
      ],
      "text/markdown": [
       "\n",
       "A anova: 2 × 3\n",
       "\n",
       "| <!--/--> | Df &lt;int&gt; | F value &lt;dbl&gt; | Pr(&gt;F) &lt;dbl&gt; |\n",
       "|---|---|---|---|\n",
       "| group | 17 | 0.6159254 | 0.8702271 |\n",
       "| <!----> | 82 |        NA |        NA |\n",
       "\n"
      ],
      "text/plain": [
       "      Df F value   Pr(>F)   \n",
       "group 17 0.6159254 0.8702271\n",
       "      82        NA        NA"
      ]
     },
     "metadata": {},
     "output_type": "display_data"
    }
   ],
   "source": [
    "# Levene's test\n",
    "leveneTest(income ~ interaction(age_bins, gender, purchase_history), data = df)"
   ]
  },
  {
   "cell_type": "code",
   "execution_count": null,
   "metadata": {
    "vscode": {
     "languageId": "r"
    }
   },
   "outputs": [
    {
     "data": {
      "text/plain": [
       "                                 Df    Sum Sq   Mean Sq F value Pr(>F)  \n",
       "age_bins                          2 2.959e+08 147973409   1.289 0.2812  \n",
       "gender                            1 2.874e+08 287417989   2.503 0.1175  \n",
       "purchase_history                  2 2.806e+08 140314292   1.222 0.3000  \n",
       "age_bins:gender                   2 5.939e+08 296953935   2.586 0.0814 .\n",
       "age_bins:purchase_history         4 2.166e+08  54146998   0.472 0.7565  \n",
       "gender:purchase_history           2 6.473e+07  32366436   0.282 0.7551  \n",
       "age_bins:gender:purchase_history  4 1.986e+08  49641984   0.432 0.7849  \n",
       "Residuals                        82 9.416e+09 114827438                 \n",
       "---\n",
       "Signif. codes:  0 ‘***’ 0.001 ‘**’ 0.01 ‘*’ 0.05 ‘.’ 0.1 ‘ ’ 1"
      ]
     },
     "metadata": {},
     "output_type": "display_data"
    }
   ],
   "source": [
    "summary(anova)"
   ]
  }
 ],
 "metadata": {
  "kernelspec": {
   "display_name": "R",
   "language": "R",
   "name": "ir"
  },
  "language_info": {
   "codemirror_mode": "r",
   "file_extension": ".r",
   "mimetype": "text/x-r-source",
   "name": "R",
   "pygments_lexer": "r",
   "version": "4.1.2"
  }
 },
 "nbformat": 4,
 "nbformat_minor": 2
}
